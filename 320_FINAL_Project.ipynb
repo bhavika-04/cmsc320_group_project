{
  "nbformat": 4,
  "nbformat_minor": 0,
  "metadata": {
    "colab": {
      "provenance": []
    },
    "kernelspec": {
      "name": "python3",
      "display_name": "Python 3"
    },
    "language_info": {
      "name": "python"
    }
  },
  "cells": [
    {
      "cell_type": "code",
      "execution_count": null,
      "metadata": {
        "id": "A4QyE42AXXmY"
      },
      "outputs": [],
      "source": [
        "import pandas as pd\n",
        "import numpy as np"
      ]
    },
    {
      "cell_type": "code",
      "source": [
        "df_health = pd.read_csv(\"sample_data/health.csv\", header=1)\n",
        "print(df_health.shape)\n",
        "df_health"
      ],
      "metadata": {
        "id": "16FA1L7XdA12"
      },
      "execution_count": null,
      "outputs": []
    },
    {
      "cell_type": "code",
      "source": [
        "print(list(df_health.columns))"
      ],
      "metadata": {
        "id": "mfZ3RR7YjJRy"
      },
      "execution_count": null,
      "outputs": []
    },
    {
      "cell_type": "code",
      "source": [
        "# cleaning the health data\n",
        "cols_to_keep = ['County', '% Fair or Poor Health', 'Average Number of Physically Unhealthy Days', 'Average Number of Mentally Unhealthy Days']\n",
        "df_filtered_health = df_health[cols_to_keep]\n",
        "df_filtered_health = df_filtered_health.drop(df_filtered_health.index[0])\n",
        "df_filtered_health"
      ],
      "metadata": {
        "id": "wAq3zpWEiqnW"
      },
      "execution_count": null,
      "outputs": []
    },
    {
      "cell_type": "code",
      "source": [
        "df_county = pd.read_csv(\"sample_data/county_3digitnaics_2022.csv\", header=2)\n",
        "df_county\n",
        "df_county_MD = df_county[df_county['State Name'].str.contains('Maryland', case=False, na=False)]\n",
        "print(df_county_MD.shape)"
      ],
      "metadata": {
        "id": "Jm8-Iwu_v87u"
      },
      "execution_count": null,
      "outputs": []
    },
    {
      "cell_type": "code",
      "source": [
        "columns_to_keep = ['County Name', 'NAICS Description', 'Enterprise Size', 'Establishments']\n",
        "df_filtered = df_county_MD[df_county_MD['NAICS Description'].str.contains('Total', case=False, na=False)][columns_to_keep]\n",
        "display(df_filtered)"
      ],
      "metadata": {
        "id": "DLH6F9ZhwMtz"
      },
      "execution_count": null,
      "outputs": []
    },
    {
      "cell_type": "code",
      "source": [
        "df_filtered = df_filtered[~df_filtered['Enterprise Size'].str.contains('Total', case=False, na=False)]\n",
        "df_filtered = df_filtered[~df_filtered['County Name'].str.contains('Statewide Maryland', case=False, na=False)]\n",
        "df_filtered"
      ],
      "metadata": {
        "id": "wn82TvqywBZc"
      },
      "execution_count": null,
      "outputs": []
    },
    {
      "cell_type": "code",
      "source": [
        "def identify_size(size):\n",
        "    size = size.lower()\n",
        "    if '<20' in size or '20-99' in size:\n",
        "        return 'Small'\n",
        "    elif '100-499' in size or '500+' in size:\n",
        "        return 'Large'\n",
        "    else:\n",
        "        return None\n",
        "\n",
        "df_filtered['Business Size'] = df_filtered['Enterprise Size'].apply(identify_size)\n",
        "df_filtered"
      ],
      "metadata": {
        "id": "bsX0dX7GwJ_T"
      },
      "execution_count": null,
      "outputs": []
    },
    {
      "cell_type": "code",
      "source": [
        "df_filtered['Establishments'] = df_filtered['Establishments'].str.replace(',', '', regex=False).astype(int)"
      ],
      "metadata": {
        "id": "AatLC2uywPeF"
      },
      "execution_count": null,
      "outputs": []
    },
    {
      "cell_type": "code",
      "source": [
        "df_summary = (\n",
        "    df_filtered\n",
        "    .groupby(['County Name', 'Business Size'], as_index=False)['Establishments']\n",
        "    .sum()\n",
        ")\n",
        "\n",
        "df_summary"
      ],
      "metadata": {
        "id": "F9ls4eqYwUlW"
      },
      "execution_count": null,
      "outputs": []
    },
    {
      "cell_type": "code",
      "source": [
        "df_summary['Total per County'] = df_summary.groupby('County Name')['Establishments'].transform('sum')\n",
        "df_summary['Percentage'] = (df_summary['Establishments'] / df_summary['Total per County']) * 100\n",
        "df_summary['Percentage'] = df_summary['Percentage'].round()\n",
        "df_summary"
      ],
      "metadata": {
        "id": "Bt5OmPLswXlJ"
      },
      "execution_count": null,
      "outputs": []
    },
    {
      "cell_type": "code",
      "source": [
        "df_categorize_presence = df_summary[df_summary['Business Size'] == \"Small\"]\n",
        "median_value = 79 #check this\n",
        "\n",
        "df_categorize_presence['Small_Business_Presence'] = np.where(\n",
        "    df_categorize_presence['Percentage'] <= median_value,\n",
        "    'Low',\n",
        "    'High'\n",
        ")\n",
        "\n",
        "cols_to_keep = ['County Name', 'Percentage', 'Small_Business_Presence']\n",
        "df_final = df_categorize_presence[cols_to_keep]\n",
        "\n",
        "df_final"
      ],
      "metadata": {
        "id": "iALRWgS5wZ0g"
      },
      "execution_count": null,
      "outputs": []
    },
    {
      "cell_type": "code",
      "source": [
        "# FINAL MERGED DATASET\n",
        "df_filtered_health = df_filtered_health.rename(columns={'County': 'County Name'})\n",
        "df_final.loc[7, 'County Name'] = \"Baltimore City\"\n",
        "df_final = pd.merge(df_final, df_filtered_health, on='County Name', how='left')\n",
        "df_final"
      ],
      "metadata": {
        "id": "1UrKpljfxL49"
      },
      "execution_count": null,
      "outputs": []
    },
    {
      "cell_type": "code",
      "source": [
        "'''\n",
        "EVERYONE WILL USE THE SAME FILTERED HEALTH DATA, BUT THE BUSINESS DF VARIES (BHAVIKA WROTE WHICH ONE TO USE)\n",
        "Betty: you will be doing this\n",
        "HA = Counties with a higher density of small businesses have less % of adults in fair/poor health.\n",
        "H0 = Counties with a higher density of small businesses do not differ in the percentage of adults in fair/poor health.\n",
        "\n",
        "Avishi:\n",
        "HA = The mean number of mentally unhealthy days among adults differs significantly across counties with low, medium, and high proportions of small businesses.\n",
        "H0 = The mean number of mentally unhealthy days is the same across counties with low, medium, and high percentages of small businesses.\n",
        "Avishi, you will be doing an ANOVA test for this and then that will tell us if there is a difference in the groups. if there is a difference you\n",
        "then have to add in some post hoc analysis as well.\n",
        "\n",
        "For post hoc, do the turkey:\n",
        "Post-hoc Tukey HSD test\n",
        "\n",
        "Identifies which pairs differ (Low vs Med, Low vs High, Med vs High).\n",
        "\n",
        "Look at the mean difference sign:\n",
        "\n",
        "Positive diff → first group’s mean is higher.\n",
        "\n",
        "Negative diff → first group’s mean is lower.\n",
        "\n",
        "\n",
        "Manasa:\n",
        "You will pop off on the summary stats. we want mean, median, iqr, etc. for the relevant factors\n",
        "- you need to see the table that has the categories of low medium and high frequency of small businesses and get some summary stuff with that\n",
        "- summary stats of all three health factors\n",
        "- summary stats for the number of small businesses\n",
        "'''"
      ],
      "metadata": {
        "id": "NPO6oL0vl7rn",
        "collapsed": true
      },
      "execution_count": null,
      "outputs": []
    }
  ]
}